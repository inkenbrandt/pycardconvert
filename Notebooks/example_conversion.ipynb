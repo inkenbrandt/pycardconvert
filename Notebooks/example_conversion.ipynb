{
 "cells": [
  {
   "cell_type": "code",
   "execution_count": 6,
   "id": "61fb7208",
   "metadata": {},
   "outputs": [],
   "source": [
    "import pathlib\n",
    "import sys\n",
    "import os\n",
    "\n",
    "# Add the src/ directory to sys.path\n",
    "sys.path.append(str(pathlib.Path(\"../src\").resolve()))"
   ]
  },
  {
   "cell_type": "code",
   "execution_count": 8,
   "id": "1d92dd19",
   "metadata": {},
   "outputs": [],
   "source": [
    "import pycardconvert\n"
   ]
  },
  {
   "cell_type": "markdown",
   "id": "a78c34db",
   "metadata": {},
   "source": [
    "# One file"
   ]
  },
  {
   "cell_type": "code",
   "execution_count": null,
   "id": "18be33e6",
   "metadata": {},
   "outputs": [],
   "source": [
    "file = \"../data/test1.dat\"\n",
    "output_file = \"../test_files/test1_out.dat\"\n",
    "output_format = \"toa5\"\n",
    "format_options = \"1\"\n",
    "pycardconvert.convert_file(file, output_file, output_format, format_options)"
   ]
  },
  {
   "cell_type": "markdown",
   "id": "d0435fdb",
   "metadata": {},
   "source": [
    "# Convert a full directory"
   ]
  },
  {
   "cell_type": "code",
   "execution_count": null,
   "id": "c0d9b13f",
   "metadata": {},
   "outputs": [],
   "source": [
    "\n",
    "\n",
    "input_dir = pathlib.Path(\"E:/UGS_Flux/Data_Downloads/\")\n",
    "output_format = \"toa5\"\n",
    "format_options = \"1\"\n",
    "\n",
    "\n",
    "for file in input_dir.rglob(\"*Time_Series*.dat\"): \n",
    "\n",
    "    cr_sn = str(file.stem).split(\"_\")[0]\n",
    "    file_no = str(file.stem).split(\"_\")[-1]\n",
    "    file_dir = file.parent\n",
    "    output_file = file_dir / f\"{cr_sn}_{file_no}.asc\"\n",
    "    if output_file.exists():\n",
    "        print(f\"File {output_file} already exists. Skipping conversion.\")\n",
    "        continue\n",
    "    print(f\"Converting {file} to {output_file}\")    \n",
    "    pycardconvert.convert_file(file, output_file, output_format, format_options)"
   ]
  }
 ],
 "metadata": {
  "kernelspec": {
   "display_name": "py313",
   "language": "python",
   "name": "python3"
  },
  "language_info": {
   "codemirror_mode": {
    "name": "ipython",
    "version": 3
   },
   "file_extension": ".py",
   "mimetype": "text/x-python",
   "name": "python",
   "nbconvert_exporter": "python",
   "pygments_lexer": "ipython3",
   "version": "3.13.1"
  }
 },
 "nbformat": 4,
 "nbformat_minor": 5
}
